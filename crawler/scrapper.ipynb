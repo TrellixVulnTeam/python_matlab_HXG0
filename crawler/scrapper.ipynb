{
 "cells": [
  {
   "cell_type": "code",
   "execution_count": 9,
   "metadata": {},
   "outputs": [],
   "source": [
    "from bs4 import BeautifulSoup\n",
    "\n",
    "import requests\n",
    "import urllib3\n",
    "import shutil"
   ]
  },
  {
   "cell_type": "markdown",
   "metadata": {},
   "source": [
    "<h3>Percevejo marrom (euschistus heros)</h3>"
   ]
  },
  {
   "cell_type": "code",
   "execution_count": null,
   "metadata": {},
   "outputs": [],
   "source": [
    "# FROM https://bugguide.net/\n",
    "\n",
    "def download_image(image, name):\n",
    "    response = requests.get(image, stream=True)\n",
    "    \n",
    "    path = 'C://Users//filli//OneDrive//Documentos//Codes_Python//behind_the_code//desafio1//percevejo_marrom'\n",
    "\n",
    "    file = open(path + f\"//{name}.jpg\", 'wb')\n",
    "    \n",
    "    response.raw.decode_content = True\n",
    "    shutil.copyfileobj(response.raw, file)\n",
    "    del response\n",
    "\n",
    "\n",
    "# url = 'https://bugguide.net/index.php?q=search&keys=nezara+viridula&search=Search'\n",
    "\n",
    "# response = requests.get(url)\n",
    "\n",
    "# soup = BeautifulSoup(response.text, \"html.parser\")\n",
    "\n",
    "# imgs = soup.find_all(\"img\", class_=\"bgimage-thumb\")\n",
    "\n",
    "# for idx, img in enumerate(imgs):\n",
    "#     # enter the image page:\n",
    "#     image_response = requests.get(img.find_parent()['href'])\n",
    "#     img_soup = BeautifulSoup(image_response.text, \"html.parser\")\n",
    "#     im = img_soup.find(\"img\", class_=\"bgimage-image\")\n",
    "#     # donwload the image:\n",
    "#     name = f\"{idx:03}\"\n",
    "#     download_image(img['src'], name)\n",
    "\n",
    "# print('Done!')"
   ]
  },
  {
   "cell_type": "markdown",
   "metadata": {},
   "source": [
    "<h3>Percevejo verde (nezara viridula)</h3>"
   ]
  },
  {
   "cell_type": "code",
   "execution_count": 23,
   "metadata": {
    "tags": []
   },
   "outputs": [
    {
     "name": "stdout",
     "output_type": "stream",
     "text": [
      "Done!\n"
     ]
    }
   ],
   "source": [
    "header = {\n",
    "        \"Connection\": \"keep-alive\",\n",
    "        \"Upgrade-Insecure-Requests\": \"1\",\n",
    "        \"User-Agent\": \"Mozilla/5.0 (Windows NT 10.0; Win64; x64) AppleWebKit/537.36 (KHTML, like Gecko) Chrome/83.0.4103.97 Safari/537.36\",\n",
    "        \"Accept\": \"text/html,application/xhtml+xml,application/xml;q=0.9,image/webp,image/apng,*/*;q=0.8,application/signed-exchange;v=b3;q=0.9\",\n",
    "        \"Sec-Fetch-Site\": \"same-origin\",\n",
    "        \"Sec-Fetch-Mode\": \"navigate\",\n",
    "        \"Sec-Fetch-User\": \"?1\",\n",
    "        \"Sec-Fetch-Dest\": \"document\",\n",
    "        \"Referer\": \"https://www.google.com/\",\n",
    "        \"Accept-Encoding\": \"gzip, deflate, br\",\n",
    "        \"Accept-Language\": \"en-US,en;q=0.9\"\n",
    "    }\n",
    "\n",
    "def download_image(image, name):\n",
    "    response = requests.get(image, stream=True, headers=header)\n",
    "    \n",
    "    path = 'C://Users//filli//OneDrive//Documentos//Codes_Python//behind_the_code//desafio1//percevejo_verde'\n",
    "\n",
    "    file = open(path + f\"//{name}.jpg\", 'wb')\n",
    "    \n",
    "    response.raw.decode_content = True\n",
    "    shutil.copyfileobj(response.raw, file)\n",
    "    del response\n",
    "\n",
    "# FROM https://www.insectimages.org\n",
    "\n",
    "url = 'https://www.insectimages.org/search/action.cfm?q=nezara+viridula'\n",
    "\n",
    "response = requests.get(url, headers=header)\n",
    "soup = BeautifulSoup(response.text, \"html.parser\")\n",
    "imgs_links = soup.find_all(\"em\", text=\"Nezara viridula\")\n",
    "\n",
    "http = urllib3.PoolManager()\n",
    "\n",
    "for idx, img in enumerate(imgs_links):\n",
    "    # enter the image page:\n",
    "    image_response = requests.get('https://www.insectimages.org' + img.find_previous_sibling(\"a\")['href'], headers=header)\n",
    "    img_soup = BeautifulSoup(image_response.text, \"html.parser\")\n",
    "    \n",
    "    im_link_res = requests.get('https://www.insectimages.org' + img_soup.find(\"iframe\")['src'], headers=header)\n",
    "    im_page = BeautifulSoup(im_link_res.text, \"html.parser\")\n",
    "    im = im_page.find(\"img\", id=\"mainimage\")['src']\n",
    "    \n",
    "    # donwload the image:\n",
    "    name = f\"{idx+37:03}\"\n",
    "    download_image(im, name)\n",
    "\n",
    "print('Done!')"
   ]
  },
  {
   "cell_type": "code",
   "execution_count": null,
   "metadata": {},
   "outputs": [],
   "source": [
    "# FROM https://bugguide.net/\n",
    "\n",
    "# url = 'https://bugguide.net/index.php?q=search&keys=nezara+viridula&search=Search'\n",
    "\n",
    "# response = requests.get(url)\n",
    "\n",
    "# soup = BeautifulSoup(response.text, \"html.parser\")\n",
    "\n",
    "# imgs = soup.find_all(\"img\", class_=\"bgimage-thumb\")\n",
    "\n",
    "# for idx, img in enumerate(imgs):\n",
    "#     # enter the image page:\n",
    "#     image_response = requests.get(img.find_parent()['href'])\n",
    "#     img_soup = BeautifulSoup(image_response.text, \"html.parser\")\n",
    "#     im = img_soup.find(\"img\", class_=\"bgimage-image\")\n",
    "#     # donwload the image:\n",
    "#     name = f\"{idx:03}\"\n",
    "#     download_image(img['src'], name)\n",
    "\n",
    "# print('Done!')"
   ]
  },
  {
   "cell_type": "markdown",
   "metadata": {},
   "source": [
    "<h3>Percevejo-pequeno (piezodorus guildinii)</h3>"
   ]
  },
  {
   "cell_type": "code",
   "execution_count": 22,
   "metadata": {
    "tags": []
   },
   "outputs": [
    {
     "name": "stdout",
     "output_type": "stream",
     "text": [
      "Done!\n"
     ]
    }
   ],
   "source": [
    "header = {\n",
    "        \"Connection\": \"keep-alive\",\n",
    "        \"Upgrade-Insecure-Requests\": \"1\",\n",
    "        \"User-Agent\": \"Mozilla/5.0 (Windows NT 10.0; Win64; x64) AppleWebKit/537.36 (KHTML, like Gecko) Chrome/83.0.4103.97 Safari/537.36\",\n",
    "        \"Accept\": \"text/html,application/xhtml+xml,application/xml;q=0.9,image/webp,image/apng,*/*;q=0.8,application/signed-exchange;v=b3;q=0.9\",\n",
    "        \"Sec-Fetch-Site\": \"same-origin\",\n",
    "        \"Sec-Fetch-Mode\": \"navigate\",\n",
    "        \"Sec-Fetch-User\": \"?1\",\n",
    "        \"Sec-Fetch-Dest\": \"document\",\n",
    "        \"Referer\": \"https://www.google.com/\",\n",
    "        \"Accept-Encoding\": \"gzip, deflate, br\",\n",
    "        \"Accept-Language\": \"en-US,en;q=0.9\"\n",
    "    }\n",
    "\n",
    "def download_image(image, name):\n",
    "    response = requests.get(image, stream=True, headers=header)\n",
    "    \n",
    "    path = 'C://Users//filli//OneDrive//Documentos//Codes_Python//behind_the_code//desafio1//percevejo_pequeno'\n",
    "\n",
    "    file = open(path + f\"//{name}.jpg\", 'wb')\n",
    "    \n",
    "    response.raw.decode_content = True\n",
    "    shutil.copyfileobj(response.raw, file)\n",
    "    del response\n",
    "\n",
    "\n",
    "\n",
    "# FROM https://www.insectimages.org\n",
    "\n",
    "\n",
    "\n",
    "url = 'https://www.insectimages.org/search/action.cfm?q=piezodorus+guildinii'\n",
    "\n",
    "response = requests.get(url, headers=header)\n",
    "soup = BeautifulSoup(response.text, \"html.parser\")\n",
    "imgs_links = soup.find_all(\"em\", text=\"Piezodorus guildinii\")\n",
    "\n",
    "http = urllib3.PoolManager()\n",
    "\n",
    "for idx, img in enumerate(imgs_links):\n",
    "    # enter the image page:\n",
    "    image_response = requests.get('https://www.insectimages.org' + img.find_previous_sibling(\"a\")['href'], headers=header)\n",
    "    img_soup = BeautifulSoup(image_response.text, \"html.parser\")\n",
    "    \n",
    "    im_link_res = requests.get('https://www.insectimages.org' + img_soup.find(\"iframe\")['src'], headers=header)\n",
    "    im_page = BeautifulSoup(im_link_res.text, \"html.parser\")\n",
    "    im = im_page.find(\"img\", id=\"mainimage\")['src']\n",
    "    \n",
    "    # donwload the image:\n",
    "    name = f\"{idx+12:03}\"\n",
    "    download_image(im, name)\n",
    "\n",
    "print('Done!')\n"
   ]
  },
  {
   "cell_type": "code",
   "execution_count": null,
   "metadata": {},
   "outputs": [],
   "source": [
    "# # FROM https://bugguide.net/\n",
    "\n",
    "# url = 'https://bugguide.net/index.php?q=search&keys=piezodorus+guildinii'\n",
    "\n",
    "# response = requests.get(url)\n",
    "\n",
    "# soup = BeautifulSoup(response.text, \"html.parser\")\n",
    "\n",
    "# imgs = soup.find_all(\"img\", class_=\"bgimage-thumb\")\n",
    "\n",
    "# for idx, img in enumerate(imgs):\n",
    "#     # enter the image page:\n",
    "#     image_response = requests.get(img.find_parent()['href'])\n",
    "#     img_soup = BeautifulSoup(image_response.text, \"html.parser\")\n",
    "#     im = img_soup.find(\"img\", class_=\"bgimage-image\")\n",
    "#     # donwload the image:\n",
    "#     name = f\"{idx:03}\"\n",
    "#     download_image(img['src'], name)\n",
    "\n",
    "# print('Done!')"
   ]
  },
  {
   "cell_type": "markdown",
   "metadata": {},
   "source": [
    "lagarta = anticarsia gemmatalis\n",
    "percevejo-verde = nezara viridula\n",
    "percevejo=pequeno = piezodorus guildinii\n",
    "percevejo-marrom = euschistus heros"
   ]
  }
 ],
 "metadata": {
  "kernelspec": {
   "display_name": "Python 3",
   "language": "python",
   "name": "python3"
  },
  "language_info": {
   "codemirror_mode": {
    "name": "ipython",
    "version": 3
   },
   "file_extension": ".py",
   "mimetype": "text/x-python",
   "name": "python",
   "nbconvert_exporter": "python",
   "pygments_lexer": "ipython3",
   "version": "3.7.3"
  }
 },
 "nbformat": 4,
 "nbformat_minor": 2
}
